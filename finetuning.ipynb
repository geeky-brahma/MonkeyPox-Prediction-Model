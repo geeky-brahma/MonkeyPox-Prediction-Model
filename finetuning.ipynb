{
 "cells": [
  {
   "cell_type": "code",
   "execution_count": 1,
   "metadata": {},
   "outputs": [
    {
     "name": "stdout",
     "output_type": "stream",
     "text": [
      "WARNING:tensorflow:From c:\\Python311\\Lib\\site-packages\\keras\\src\\losses.py:2976: The name tf.losses.sparse_softmax_cross_entropy is deprecated. Please use tf.compat.v1.losses.sparse_softmax_cross_entropy instead.\n",
      "\n",
      "WARNING:tensorflow:From c:\\Python311\\Lib\\site-packages\\keras\\src\\backend.py:1398: The name tf.executing_eagerly_outside_functions is deprecated. Please use tf.compat.v1.executing_eagerly_outside_functions instead.\n",
      "\n",
      "WARNING:tensorflow:From c:\\Python311\\Lib\\site-packages\\keras\\src\\layers\\pooling\\max_pooling2d.py:161: The name tf.nn.max_pool is deprecated. Please use tf.nn.max_pool2d instead.\n",
      "\n"
     ]
    }
   ],
   "source": [
    "from tensorflow.keras.models import load_model\n",
    "\n",
    "model_resnet = load_model('resnet_model.h5')\n"
   ]
  },
  {
   "cell_type": "code",
   "execution_count": 2,
   "metadata": {},
   "outputs": [
    {
     "name": "stdout",
     "output_type": "stream",
     "text": [
      "Class distribution in training set:\n"
     ]
    },
    {
     "ename": "NameError",
     "evalue": "name 'train_generator' is not defined",
     "output_type": "error",
     "traceback": [
      "\u001b[1;31m---------------------------------------------------------------------------\u001b[0m",
      "\u001b[1;31mNameError\u001b[0m                                 Traceback (most recent call last)",
      "Cell \u001b[1;32mIn[2], line 2\u001b[0m\n\u001b[0;32m      1\u001b[0m \u001b[38;5;28mprint\u001b[39m(\u001b[38;5;124m\"\u001b[39m\u001b[38;5;124mClass distribution in training set:\u001b[39m\u001b[38;5;124m\"\u001b[39m)\n\u001b[1;32m----> 2\u001b[0m \u001b[38;5;28mprint\u001b[39m(\u001b[43mtrain_generator\u001b[49m\u001b[38;5;241m.\u001b[39mclass_indices)\n\u001b[0;32m      4\u001b[0m \u001b[38;5;28;01mfrom\u001b[39;00m \u001b[38;5;21;01mcollections\u001b[39;00m \u001b[38;5;28;01mimport\u001b[39;00m Counter\n\u001b[0;32m      6\u001b[0m counter \u001b[38;5;241m=\u001b[39m Counter(train_generator\u001b[38;5;241m.\u001b[39mclasses)\n",
      "\u001b[1;31mNameError\u001b[0m: name 'train_generator' is not defined"
     ]
    }
   ],
   "source": [
    "print(\"Class distribution in training set:\")\n",
    "print(train_generator.class_indices)\n",
    "\n",
    "from collections import Counter\n",
    "\n",
    "counter = Counter(train_generator.classes)\n",
    "print(f\"Training Class Distribution: {counter}\")\n"
   ]
  },
  {
   "cell_type": "code",
   "execution_count": 4,
   "metadata": {},
   "outputs": [
    {
     "name": "stdout",
     "output_type": "stream",
     "text": [
      "Found 2736 images belonging to 2 classes.\n",
      "Found 342 images belonging to 2 classes.\n"
     ]
    }
   ],
   "source": [
    "from tensorflow.keras.preprocessing.image import ImageDataGenerator\n",
    "\n",
    "# Define paths to your dataset directories\n",
    "train_dir = 'dataset/train'\n",
    "val_dir = 'dataset/validation'\n",
    "\n",
    "# Initialize ImageDataGenerator with augmentation for the training set\n",
    "train_datagen = ImageDataGenerator(\n",
    "    rescale=1./255,\n",
    "    rotation_range=40,\n",
    "    width_shift_range=0.2,\n",
    "    height_shift_range=0.2,\n",
    "    shear_range=0.2,\n",
    "    zoom_range=0.2,\n",
    "    horizontal_flip=True,\n",
    "    fill_mode='nearest'\n",
    ")\n",
    "\n",
    "# For validation/test data, only rescaling\n",
    "val_datagen = ImageDataGenerator(rescale=1./255)\n",
    "\n",
    "# Create the generators\n",
    "train_generator = train_datagen.flow_from_directory(\n",
    "    train_dir,\n",
    "    target_size=(224, 224),\n",
    "    batch_size=32,\n",
    "    class_mode='binary'\n",
    ")\n",
    "\n",
    "val_generator = val_datagen.flow_from_directory(\n",
    "    val_dir,\n",
    "    target_size=(224, 224),\n",
    "    batch_size=32,\n",
    "    class_mode='binary'\n",
    ")\n"
   ]
  },
  {
   "cell_type": "code",
   "execution_count": 5,
   "metadata": {},
   "outputs": [
    {
     "name": "stdout",
     "output_type": "stream",
     "text": [
      "Class distribution in training set:\n",
      "{'Monkeypox': 0, 'Non_Monkeypox': 1}\n",
      "Training Class Distribution: Counter({1: 1512, 0: 1224})\n"
     ]
    }
   ],
   "source": [
    "from collections import Counter\n",
    "\n",
    "# Check class indices (labels)\n",
    "print(\"Class distribution in training set:\")\n",
    "print(train_generator.class_indices)\n",
    "\n",
    "# Check class distribution\n",
    "counter = Counter(train_generator.classes)\n",
    "print(f\"Training Class Distribution: {counter}\")\n"
   ]
  },
  {
   "cell_type": "code",
   "execution_count": 7,
   "metadata": {},
   "outputs": [
    {
     "name": "stdout",
     "output_type": "stream",
     "text": [
      "Epoch 1/10\n",
      "WARNING:tensorflow:From c:\\Python311\\Lib\\site-packages\\keras\\src\\utils\\tf_utils.py:492: The name tf.ragged.RaggedTensorValue is deprecated. Please use tf.compat.v1.ragged.RaggedTensorValue instead.\n",
      "\n",
      "85/85 [==============================] - 438s 5s/step - loss: 0.0084 - accuracy: 0.9993 - val_loss: 0.0052 - val_accuracy: 1.0000\n",
      "Epoch 2/10\n",
      "85/85 [==============================] - 393s 5s/step - loss: 0.0067 - accuracy: 0.9996 - val_loss: 0.0061 - val_accuracy: 1.0000\n",
      "Epoch 3/10\n",
      "85/85 [==============================] - 392s 5s/step - loss: 0.0094 - accuracy: 0.9978 - val_loss: 0.0061 - val_accuracy: 1.0000\n",
      "Epoch 4/10\n",
      "85/85 [==============================] - 394s 5s/step - loss: 0.0078 - accuracy: 0.9993 - val_loss: 0.0059 - val_accuracy: 1.0000\n",
      "Epoch 5/10\n",
      "85/85 [==============================] - 393s 5s/step - loss: 0.0051 - accuracy: 1.0000 - val_loss: 0.0052 - val_accuracy: 1.0000\n",
      "Epoch 6/10\n",
      "85/85 [==============================] - 394s 5s/step - loss: 0.0062 - accuracy: 0.9993 - val_loss: 0.0066 - val_accuracy: 0.9969\n",
      "Epoch 7/10\n",
      "85/85 [==============================] - 394s 5s/step - loss: 0.0087 - accuracy: 0.9993 - val_loss: 0.0043 - val_accuracy: 1.0000\n",
      "Epoch 8/10\n",
      "85/85 [==============================] - 396s 5s/step - loss: 0.0044 - accuracy: 1.0000 - val_loss: 0.0046 - val_accuracy: 1.0000\n",
      "Epoch 9/10\n",
      "85/85 [==============================] - 402s 5s/step - loss: 0.0060 - accuracy: 0.9996 - val_loss: 0.0039 - val_accuracy: 1.0000\n",
      "Epoch 10/10\n",
      "85/85 [==============================] - 394s 5s/step - loss: 0.0047 - accuracy: 1.0000 - val_loss: 0.0052 - val_accuracy: 1.0000\n"
     ]
    }
   ],
   "source": [
    "# Compute class weights\n",
    "from sklearn.utils import class_weight\n",
    "import numpy as np\n",
    "class_weights = class_weight.compute_class_weight(\n",
    "    class_weight='balanced',\n",
    "    classes=np.unique(train_generator.classes),\n",
    "    y=train_generator.classes\n",
    ")\n",
    "\n",
    "class_weights_dict = dict(enumerate(class_weights))\n",
    "\n",
    "# Train the model with class weights\n",
    "history = model_resnet.fit(\n",
    "    train_generator,\n",
    "    validation_data=val_generator,\n",
    "    epochs=10,\n",
    "    steps_per_epoch=train_generator.samples // train_generator.batch_size,\n",
    "    validation_steps=val_generator.samples // val_generator.batch_size,\n",
    "    class_weight=class_weights_dict\n",
    ")\n"
   ]
  },
  {
   "cell_type": "code",
   "execution_count": 8,
   "metadata": {},
   "outputs": [
    {
     "name": "stderr",
     "output_type": "stream",
     "text": [
      "c:\\Python311\\Lib\\site-packages\\keras\\src\\engine\\training.py:3103: UserWarning: You are saving your model as an HDF5 file via `model.save()`. This file format is considered legacy. We recommend using instead the native Keras format, e.g. `model.save('my_model.keras')`.\n",
      "  saving_api.save_model(\n"
     ]
    }
   ],
   "source": [
    "# Save the entire model to a file\n",
    "model_resnet.save('resnet_model_n.h5')\n"
   ]
  },
  {
   "cell_type": "code",
   "execution_count": 10,
   "metadata": {},
   "outputs": [
    {
     "name": "stdout",
     "output_type": "stream",
     "text": [
      "Found 342 images belonging to 2 classes.\n"
     ]
    }
   ],
   "source": [
    "from tensorflow.keras.preprocessing.image import ImageDataGenerator\n",
    "\n",
    "# Set up data augmentation for testing (just rescaling)\n",
    "test_datagen = ImageDataGenerator(rescale=1./255)\n",
    "\n",
    "test_generator = test_datagen.flow_from_directory(\n",
    "    'dataset/test',  # Path to the test dataset\n",
    "    target_size=(224, 224),\n",
    "    batch_size=32,\n",
    "    class_mode='binary',\n",
    "    shuffle=False  # Important: do not shuffle if you want to compare true labels to predictions\n",
    ")\n"
   ]
  },
  {
   "cell_type": "code",
   "execution_count": 11,
   "metadata": {},
   "outputs": [
    {
     "name": "stdout",
     "output_type": "stream",
     "text": [
      "11/11 [==============================] - 14s 1s/step\n",
      "Classification Report:\n",
      "               precision    recall  f1-score   support\n",
      "\n",
      "    Monkeypox       1.00      0.99      1.00       153\n",
      "Non_Monkeypox       0.99      1.00      1.00       189\n",
      "\n",
      "     accuracy                           1.00       342\n",
      "    macro avg       1.00      1.00      1.00       342\n",
      " weighted avg       1.00      1.00      1.00       342\n",
      "\n",
      "Confusion Matrix:\n",
      "[[152   1]\n",
      " [  0 189]]\n"
     ]
    }
   ],
   "source": [
    "from sklearn.metrics import classification_report, confusion_matrix\n",
    "\n",
    "# Predict on validation/test set\n",
    "predictions = model_resnet.predict(test_generator)\n",
    "predicted_classes = np.where(predictions > 0.5, 1, 0)\n",
    "\n",
    "# Generate a classification report\n",
    "print(\"Classification Report:\")\n",
    "print(classification_report(test_generator.classes, predicted_classes, target_names=['Monkeypox', 'Non_Monkeypox']))\n",
    "\n",
    "# Generate a confusion matrix\n",
    "print(\"Confusion Matrix:\")\n",
    "print(confusion_matrix(test_generator.classes, predicted_classes))\n"
   ]
  },
  {
   "cell_type": "code",
   "execution_count": 26,
   "metadata": {},
   "outputs": [
    {
     "name": "stdout",
     "output_type": "stream",
     "text": [
      "1/1 [==============================] - 1s 1s/step\n",
      "Prediction: Not Monkeypox\n"
     ]
    }
   ],
   "source": [
    "from tensorflow.keras.preprocessing import image\n",
    "import numpy as np\n",
    "import tensorflow as tf\n",
    "\n",
    "# Load your trained model\n",
    "model_resnet = tf.keras.models.load_model('resnet_model_n.h5')\n",
    "\n",
    "# Function to predict Monkeypox from an image\n",
    "def predict_monkeypox(img_path):\n",
    "    # Load the image with the same target size as the training images\n",
    "    img = image.load_img(img_path, target_size=(224, 224))\n",
    "    \n",
    "    # Convert the image to an array\n",
    "    img_array = image.img_to_array(img)\n",
    "    \n",
    "    # Expand dimensions to match the input shape (1, 224, 224, 3)\n",
    "    img_array = np.expand_dims(img_array, axis=0)\n",
    "    \n",
    "    # Normalize the image data (if you used rescaling during training)\n",
    "    img_array /= 255.0\n",
    "    \n",
    "    # Make a prediction\n",
    "    prediction = model_resnet.predict(img_array)\n",
    "    \n",
    "    # Convert the prediction to a binary class label\n",
    "    if prediction < 0.5:\n",
    "        print(\"Prediction: Monkeypox\")\n",
    "    else:\n",
    "        print(\"Prediction: Not Monkeypox\")\n",
    "\n",
    "# Example usage\n",
    "img_path = 'measles11.jpg'\n",
    "predict_monkeypox(img_path)\n"
   ]
  },
  {
   "cell_type": "code",
   "execution_count": null,
   "metadata": {},
   "outputs": [],
   "source": []
  }
 ],
 "metadata": {
  "kernelspec": {
   "display_name": "Python 3",
   "language": "python",
   "name": "python3"
  },
  "language_info": {
   "codemirror_mode": {
    "name": "ipython",
    "version": 3
   },
   "file_extension": ".py",
   "mimetype": "text/x-python",
   "name": "python",
   "nbconvert_exporter": "python",
   "pygments_lexer": "ipython3",
   "version": "3.11.4"
  }
 },
 "nbformat": 4,
 "nbformat_minor": 2
}
